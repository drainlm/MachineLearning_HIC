{
 "cells": [
  {
   "cell_type": "code",
   "execution_count": 102,
   "metadata": {},
   "outputs": [],
   "source": [
    "# Import Dependencies\n",
    "import pandas as pd\n",
    "import numpy as np"
   ]
  },
  {
   "cell_type": "code",
   "execution_count": 103,
   "metadata": {},
   "outputs": [],
   "source": [
    "years = list(map(str, range(2014, 2023)))\n",
    "\n",
    "# Read 2012-2022 sheets of an Excel file into a dictionary of DataFrames\n",
    "dict_of_dfs = {year: pd.read_excel('2007-2022-HIC-Counts-by-State.xlsx', sheet_name=year, skiprows=1) for year in years}"
   ]
  },
  {
   "cell_type": "code",
   "execution_count": 104,
   "metadata": {},
   "outputs": [],
   "source": [
    "# Find the common set of columns\n",
    "common_columns = set.intersection(*[set(df.columns) for df in dict_of_dfs.values()])"
   ]
  },
  {
   "cell_type": "code",
   "execution_count": 105,
   "metadata": {},
   "outputs": [],
   "source": [
    "# Realign data and add \"Year\" column\n",
    "all_data = pd.DataFrame()\n",
    "for year, df in dict_of_dfs.items():\n",
    "    missing_cols = common_columns - set(df.columns)\n",
    "    extra_cols = set(df.columns) - common_columns\n",
    "    df.drop(columns=extra_cols, errors='ignore', inplace=True)\n",
    "    for col in missing_cols:\n",
    "        df[col] = np.nan\n",
    "    df['Year'] = year\n",
    "    all_data = pd.concat([all_data, df], ignore_index=True)"
   ]
  },
  {
   "cell_type": "code",
   "execution_count": 106,
   "metadata": {},
   "outputs": [],
   "source": [
    "# Concatenate all of the DataFrames in the dictionary into a single DataFrame\n",
    "HIC_Counts = pd.concat(dict_of_dfs.values(), ignore_index=True)"
   ]
  },
  {
   "cell_type": "code",
   "execution_count": 107,
   "metadata": {},
   "outputs": [],
   "source": [
    "# Remove Total rows for each year and MP (Northern Mariana Islands) since it is not included across all years\n",
    "HIC_Counts = HIC_Counts[~HIC_Counts['State'].isin(['MP', 'Total'])]"
   ]
  },
  {
   "cell_type": "code",
   "execution_count": 108,
   "metadata": {},
   "outputs": [
    {
     "name": "stdout",
     "output_type": "stream",
     "text": [
      "Number of rows: 486\n"
     ]
    }
   ],
   "source": [
    "row_count = HIC_Counts.shape[0]\n",
    "print(\"Number of rows:\", row_count)"
   ]
  },
  {
   "cell_type": "code",
   "execution_count": 109,
   "metadata": {},
   "outputs": [],
   "source": [
    "pd.set_option('display.max_rows', None)\n",
    "pd.set_option('display.max_columns', None)"
   ]
  },
  {
   "cell_type": "code",
   "execution_count": 110,
   "metadata": {},
   "outputs": [
    {
     "data": {
      "text/plain": [
       "State                                                         object\n",
       "Total Year-Round Beds (ES, TH, SH)                             int64\n",
       "Total Non-DV Year-Round Beds (ES, TH, SH)                      int64\n",
       "Total HMIS Year-Round Beds (ES, TH, SH)                        int64\n",
       "HMIS Participation Rate for Year-Round Beds (ES, TH, SH)     float64\n",
       "Total Year-Round Beds (ES)                                     int64\n",
       "Total Year-Round Beds (TH)                                     int64\n",
       "Total Year-Round Beds (SH)                                     int64\n",
       "Total Units for Households with Children (ES, TH, SH)          int64\n",
       "Total Beds for Households with Children (ES, TH, SH)           int64\n",
       "Total Beds for Households without Children (ES, TH, SH)        int64\n",
       "Total Beds for Households with only Children (ES, TH, SH)      int64\n",
       "Total Year-Round Beds (ES).1                                   int64\n",
       "Total Non-DV Year-Round Beds (ES)                              int64\n",
       "Total HMIS Year-Round Beds (ES)                                int64\n",
       "HMIS Participation Rate for Year-Round Beds (ES)             float64\n",
       "Total Seasonal Beds (ES)                                       int64\n",
       "Total Overflow Beds (ES)                                       int64\n",
       "Total Units for Households with Children (ES)                  int64\n",
       "Total Beds for Households with Children (ES)                   int64\n",
       "Total Beds for Households without Children (ES)                int64\n",
       "Total Beds for Households with only Children (ES)              int64\n",
       "Total Year-Round Beds (TH).1                                   int64\n",
       "Total Non-DV Year-Round Beds (TH)                              int64\n",
       "Total HMIS Year-Round Beds (TH)                                int64\n",
       "HMIS Participation Rate for Year-Round Beds (TH)              object\n",
       "Total Units for Households with Children (TH)                  int64\n",
       "Total Beds for Households with Children (TH)                   int64\n",
       "Total Beds for Households without Children (TH)                int64\n",
       "Total Beds for Households with only Children (TH)              int64\n",
       "Total Year-Round Beds (SH).1                                   int64\n",
       "Total Non-DV Year-Round Beds (SH)                              int64\n",
       "Total HMIS Year-Round Beds (SH)                                int64\n",
       "HMIS Participation Rate for Year-Round Beds (SH)              object\n",
       "Total Units for Households with Children (SH)                  int64\n",
       "Total Beds for Households with Children (SH)                   int64\n",
       "Total Beds for Households without Children (SH)                int64\n",
       "Total Beds for Households with only Children (SH)              int64\n",
       "Total Year-Round Beds (RRH)                                    int64\n",
       "Total Non-DV Year-Round Beds (RRH)                             int64\n",
       "Total HMIS Year-Round Beds (RRH)                               int64\n",
       "HMIS Participation Rate for Year-Round Beds (RRH)             object\n",
       "Total Units for Households with Children (RRH)                 int64\n",
       "Total Beds for Households with Children (RRH)                  int64\n",
       "Total Beds for Households without Children (RRH)               int64\n",
       "Total Beds for Households with only Children (RRH)             int64\n",
       "Total Year-Round Beds (PSH)                                    int64\n",
       "Total Non-DV Year-Round Beds (PSH)                             int64\n",
       "Total HMIS Year-Round Beds (PSH)                               int64\n",
       "HMIS Participation Rate for Year-Round Beds (PSH)             object\n",
       "Total Units for Households with Children (PSH)                 int64\n",
       "Total Beds for Households with Children (PSH)                  int64\n",
       "Total Beds for Households without Children (PSH)               int64\n",
       "Total Beds for Households with only Children (PSH)             int64\n",
       "Total Year-Round Beds (OPH)                                    int64\n",
       "Total Non-DV Year-Round Beds (OPH)                             int64\n",
       "Total HMIS Year-Round Beds (OPH)                               int64\n",
       "HMIS Participation Rate for Year-Round Beds (OPH)             object\n",
       "Total Units for Households with Children (OPH)                 int64\n",
       "Total Beds for Households with Children (OPH)                  int64\n",
       "Total Beds for Households without Children (OPH)               int64\n",
       "Total Beds for Households with only Children (OPH)             int64\n",
       "Year                                                          object\n",
       "dtype: object"
      ]
     },
     "execution_count": 110,
     "metadata": {},
     "output_type": "execute_result"
    }
   ],
   "source": [
    "HIC_Counts.dtypes"
   ]
  },
  {
   "cell_type": "code",
   "execution_count": 115,
   "metadata": {},
   "outputs": [
    {
     "data": {
      "text/plain": [
       "State                                                         0\n",
       "Total Year-Round Beds (ES, TH, SH)                            0\n",
       "Total Non-DV Year-Round Beds (ES, TH, SH)                     0\n",
       "Total HMIS Year-Round Beds (ES, TH, SH)                       0\n",
       "HMIS Participation Rate for Year-Round Beds (ES, TH, SH)      0\n",
       "Total Year-Round Beds (ES)                                    0\n",
       "Total Year-Round Beds (TH)                                    0\n",
       "Total Year-Round Beds (SH)                                    0\n",
       "Total Units for Households with Children (ES, TH, SH)         0\n",
       "Total Beds for Households with Children (ES, TH, SH)          0\n",
       "Total Beds for Households without Children (ES, TH, SH)       0\n",
       "Total Beds for Households with only Children (ES, TH, SH)     0\n",
       "Total Year-Round Beds (ES).1                                  0\n",
       "Total Non-DV Year-Round Beds (ES)                             0\n",
       "Total HMIS Year-Round Beds (ES)                               0\n",
       "HMIS Participation Rate for Year-Round Beds (ES)              0\n",
       "Total Seasonal Beds (ES)                                      0\n",
       "Total Overflow Beds (ES)                                      0\n",
       "Total Units for Households with Children (ES)                 0\n",
       "Total Beds for Households with Children (ES)                  0\n",
       "Total Beds for Households without Children (ES)               0\n",
       "Total Beds for Households with only Children (ES)             0\n",
       "Total Year-Round Beds (TH).1                                  0\n",
       "Total Non-DV Year-Round Beds (TH)                             0\n",
       "Total HMIS Year-Round Beds (TH)                               0\n",
       "HMIS Participation Rate for Year-Round Beds (TH)              0\n",
       "Total Units for Households with Children (TH)                 0\n",
       "Total Beds for Households with Children (TH)                  0\n",
       "Total Beds for Households without Children (TH)               0\n",
       "Total Beds for Households with only Children (TH)             0\n",
       "Total Year-Round Beds (SH).1                                  0\n",
       "Total Non-DV Year-Round Beds (SH)                             0\n",
       "Total HMIS Year-Round Beds (SH)                               0\n",
       "HMIS Participation Rate for Year-Round Beds (SH)             19\n",
       "Total Units for Households with Children (SH)                 0\n",
       "Total Beds for Households with Children (SH)                  0\n",
       "Total Beds for Households without Children (SH)               0\n",
       "Total Beds for Households with only Children (SH)             0\n",
       "Total Year-Round Beds (RRH)                                   0\n",
       "Total Non-DV Year-Round Beds (RRH)                            0\n",
       "Total HMIS Year-Round Beds (RRH)                              0\n",
       "HMIS Participation Rate for Year-Round Beds (RRH)             1\n",
       "Total Units for Households with Children (RRH)                0\n",
       "Total Beds for Households with Children (RRH)                 0\n",
       "Total Beds for Households without Children (RRH)              0\n",
       "Total Beds for Households with only Children (RRH)            0\n",
       "Total Year-Round Beds (PSH)                                   0\n",
       "Total Non-DV Year-Round Beds (PSH)                            0\n",
       "Total HMIS Year-Round Beds (PSH)                              0\n",
       "HMIS Participation Rate for Year-Round Beds (PSH)             1\n",
       "Total Units for Households with Children (PSH)                0\n",
       "Total Beds for Households with Children (PSH)                 0\n",
       "Total Beds for Households without Children (PSH)              0\n",
       "Total Beds for Households with only Children (PSH)            0\n",
       "Total Year-Round Beds (OPH)                                   0\n",
       "Total Non-DV Year-Round Beds (OPH)                            0\n",
       "Total HMIS Year-Round Beds (OPH)                              0\n",
       "HMIS Participation Rate for Year-Round Beds (OPH)             3\n",
       "Total Units for Households with Children (OPH)                0\n",
       "Total Beds for Households with Children (OPH)                 0\n",
       "Total Beds for Households without Children (OPH)              0\n",
       "Total Beds for Households with only Children (OPH)            0\n",
       "Year                                                          0\n",
       "dtype: int64"
      ]
     },
     "execution_count": 115,
     "metadata": {},
     "output_type": "execute_result"
    }
   ],
   "source": [
    "missing_values = HIC_Counts.isnull().sum()\n",
    "missing_values"
   ]
  }
 ],
 "metadata": {
  "kernelspec": {
   "display_name": "PythonData2",
   "language": "python",
   "name": "pythondata2"
  },
  "language_info": {
   "codemirror_mode": {
    "name": "ipython",
    "version": 3
   },
   "file_extension": ".py",
   "mimetype": "text/x-python",
   "name": "python",
   "nbconvert_exporter": "python",
   "pygments_lexer": "ipython3",
   "version": "3.9.13"
  },
  "orig_nbformat": 4
 },
 "nbformat": 4,
 "nbformat_minor": 2
}
